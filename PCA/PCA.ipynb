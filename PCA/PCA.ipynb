{
  "nbformat": 4,
  "nbformat_minor": 0,
  "metadata": {
    "colab": {
      "name": "Untitled35.ipynb",
      "provenance": []
    },
    "kernelspec": {
      "name": "python3",
      "display_name": "Python 3"
    },
    "language_info": {
      "name": "python"
    }
  },
  "cells": [
    {
      "cell_type": "code",
      "metadata": {
        "id": "4pr4zQDoICOT"
      },
      "source": [
        "import numpy as np\n",
        "import matplotlib.pyplot as plt\n",
        "from mpl_toolkits.mplot3d import Axes3D\n",
        "from sklearn import decomposition\n",
        "from sklearn import datasets\n",
        "import pandas as pd\n",
        "np.random.seed(5)\n",
        "centers=[[1,1],[-1,-1],[1,-1]]\n",
        "iris=datasets.load_iris()\n",
        "iris_df=pd.DataFrame(data=iris['data'],columns=iris['feature_names'])"
      ],
      "execution_count": 5,
      "outputs": []
    },
    {
      "cell_type": "code",
      "metadata": {
        "colab": {
          "base_uri": "https://localhost:8080/"
        },
        "id": "5CWAHx-cJM7E",
        "outputId": "51c002f3-7fe9-474b-b34c-357f1af0995d"
      },
      "source": [
        "print(iris_df.head())"
      ],
      "execution_count": 6,
      "outputs": [
        {
          "output_type": "stream",
          "name": "stdout",
          "text": [
            "   sepal length (cm)  sepal width (cm)  petal length (cm)  petal width (cm)\n",
            "0                5.1               3.5                1.4               0.2\n",
            "1                4.9               3.0                1.4               0.2\n",
            "2                4.7               3.2                1.3               0.2\n",
            "3                4.6               3.1                1.5               0.2\n",
            "4                5.0               3.6                1.4               0.2\n"
          ]
        }
      ]
    },
    {
      "cell_type": "code",
      "metadata": {
        "colab": {
          "base_uri": "https://localhost:8080/",
          "height": 312
        },
        "id": "sCPVp1goJXaM",
        "outputId": "9d186bc1-cc07-4a7e-9ee2-8e3d503efbdd"
      },
      "source": [
        "from sklearn.decomposition import PCA\n",
        "pca = PCA()\n",
        "pca=pca.fit(iris_df)\n",
        "plt.bar(np.arange(1,5),pca.explained_variance_ratio_)\n",
        "plt.xticks(np.arange(1,5))\n",
        "plt.xlabel('Component number')\n",
        "plt.ylabel('Proportion of variance')\n",
        "plt.title('Scree Plot')"
      ],
      "execution_count": 8,
      "outputs": [
        {
          "output_type": "execute_result",
          "data": {
            "text/plain": [
              "Text(0.5, 1.0, 'Scree Plot')"
            ]
          },
          "metadata": {},
          "execution_count": 8
        },
        {
          "output_type": "display_data",
          "data": {
            "image/png": "[encoded data removed]",
            "text/plain": [
              "<Figure size 432x288 with 1 Axes>"
            ]
          },
          "metadata": {
            "needs_background": "light"
          }
        }
      ]
    },
    {
      "cell_type": "markdown",
      "metadata": {
        "id": "bE2DoEjcNrdv"
      },
      "source": [
        "As we can see, the first two components account for most of the variability in the data.Therefore  decided to keep only the first two components and discard the Rest. When having determined the number of components to keep, we can run a second PCA in which we reduce the number of features."
      ]
    },
    {
      "cell_type": "code",
      "metadata": {
        "id": "JA4l5J2VNOOI"
      },
      "source": [
        "pca=PCA(n_components=2)\n",
        "pca=pca.fit(iris_df)\n",
        "iris_transformed=pca.transform(iris_df)"
      ],
      "execution_count": 9,
      "outputs": []
    },
    {
      "cell_type": "code",
      "metadata": {
        "colab": {
          "base_uri": "https://localhost:8080/"
        },
        "id": "oQfV1sb7OQEY",
        "outputId": "af1e9353-b17b-4480-cd55-94f58601bb46"
      },
      "source": [
        "print(iris_transformed[:5])"
      ],
      "execution_count": 10,
      "outputs": [
        {
          "output_type": "stream",
          "name": "stdout",
          "text": [
            "[[-2.68412563  0.31939725]\n",
            " [-2.71414169 -0.17700123]\n",
            " [-2.88899057 -0.14494943]\n",
            " [-2.74534286 -0.31829898]\n",
            " [-2.72871654  0.32675451]]\n"
          ]
        }
      ]
    },
    {
      "cell_type": "code",
      "metadata": {
        "colab": {
          "base_uri": "https://localhost:8080/",
          "height": 269
        },
        "id": "G-waFew7OVdL",
        "outputId": "2b25b856-9768-475b-889d-f18af6e87dde"
      },
      "source": [
        "for i , species in enumerate(iris['target_names']):\n",
        "  plt.scatter(iris_transformed[:,0][iris['target']==i],iris_transformed[:,1][iris['target']==i])\n",
        "plt.legend(iris['target_names'])\n",
        "plt.show()  "
      ],
      "execution_count": 13,
      "outputs": [
        {
          "output_type": "display_data",
          "data": {
            "image/png": "[encoded data removed]",
            "text/plain": [
              "<Figure size 432x288 with 1 Axes>"
            ]
          },
          "metadata": {
            "needs_background": "light"
          }
        }
      ]
    },
    {
      "cell_type": "markdown",
      "metadata": {
        "id": "RMPwQGTjP-UJ"
      },
      "source": [
        "We can see, that much of the information in the data has been preserved and we could now train an ML model, that classifies the data points according to the three species"
      ]
    },
    {
      "cell_type": "code",
      "metadata": {
        "id": "UDcWzgM3PdCe"
      },
      "source": [
        ""
      ],
      "execution_count": null,
      "outputs": []
    }
  ]
}